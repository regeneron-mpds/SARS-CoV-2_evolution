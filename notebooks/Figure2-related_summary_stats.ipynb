{
 "cells": [
  {
   "cell_type": "code",
   "execution_count": 1,
   "metadata": {
    "execution": {
     "iopub.execute_input": "2023-10-06T15:48:48.088402Z",
     "iopub.status.busy": "2023-10-06T15:48:48.086731Z",
     "iopub.status.idle": "2023-10-06T15:48:49.087034Z",
     "shell.execute_reply": "2023-10-06T15:48:49.085632Z"
    },
    "tags": []
   },
   "outputs": [
    {
     "name": "stderr",
     "output_type": "stream",
     "text": [
      "\n",
      "Attaching package: ‘dplyr’\n",
      "\n",
      "\n",
      "The following objects are masked from ‘package:data.table’:\n",
      "\n",
      "    between, first, last\n",
      "\n",
      "\n",
      "The following objects are masked from ‘package:stats’:\n",
      "\n",
      "    filter, lag\n",
      "\n",
      "\n",
      "The following objects are masked from ‘package:base’:\n",
      "\n",
      "    intersect, setdiff, setequal, union\n",
      "\n",
      "\n",
      "Loading required package: ggplot2\n",
      "\n",
      "Loading required package: magrittr\n",
      "\n"
     ]
    }
   ],
   "source": [
    "library(data.table)\n",
    "library(dplyr)\n",
    "library(ggpubr)"
   ]
  },
  {
   "cell_type": "code",
   "execution_count": 20,
   "metadata": {
    "execution": {
     "iopub.execute_input": "2023-10-06T16:01:16.304926Z",
     "iopub.status.busy": "2023-10-06T16:01:16.303762Z",
     "iopub.status.idle": "2023-10-06T16:01:16.331865Z",
     "shell.execute_reply": "2023-10-06T16:01:16.330785Z"
    },
    "tags": []
   },
   "outputs": [],
   "source": [
    "fubar_output <- data.table::fread('data/selective_landscape/2022-09_hyphy_fubar_output.csv', stringsAsFactors = FALSE) %>%\n",
    "    mutate(gene = if_else(gene==\"S\", \"Spike\", gene)) %>%\n",
    "    mutate(protein = if_else(protein==\"S\", \"Spike\", protein)) %>%\n",
    "    arrange(gene, site) \n"
   ]
  },
  {
   "cell_type": "code",
   "execution_count": 8,
   "metadata": {
    "execution": {
     "iopub.execute_input": "2023-10-06T15:56:11.087549Z",
     "iopub.status.busy": "2023-10-06T15:56:11.086519Z",
     "iopub.status.idle": "2023-10-06T15:56:11.167628Z",
     "shell.execute_reply": "2023-10-06T15:56:11.166370Z"
    },
    "tags": []
   },
   "outputs": [],
   "source": [
    "orf1ab_tbl <- data.table::fread(\"data/ORF1a__ORF1b_CDS.curated.csv\", stringsAsFactors = FALSE)\n",
    "orf1ab_tbl[11:16,]$Product <- substr(orf1ab_tbl$Note[11:16], 0, 5)\n",
    "\n",
    "orf1ab_map <- orf1ab_tbl %>% \n",
    "    rename(\n",
    "        Gene = score,\n",
    "        Protein = Product,\n",
    "        Start = aa_start,\n",
    "        End = aa_end\n",
    "    ) %>%\n",
    "    mutate(\n",
    "        Start = as.numeric(Start),\n",
    "        End = as.numeric(End)\n",
    "    ) %>%\n",
    "    select(Gene, Protein, Start, End)\n"
   ]
  },
  {
   "cell_type": "markdown",
   "metadata": {},
   "source": [
    "# Look at mutations"
   ]
  },
  {
   "cell_type": "code",
   "execution_count": 25,
   "metadata": {
    "execution": {
     "iopub.execute_input": "2023-10-06T16:02:40.089267Z",
     "iopub.status.busy": "2023-10-06T16:02:40.088039Z",
     "iopub.status.idle": "2023-10-06T16:02:40.367733Z",
     "shell.execute_reply": "2023-10-06T16:02:40.366643Z"
    },
    "tags": []
   },
   "outputs": [
    {
     "name": "stdout",
     "output_type": "stream",
     "text": [
      "187,769 unique mutations\n",
      "5,103 unique Spike RBD mutations\n",
      "\n",
      "1,154 unique HFV mutations\n",
      "223 unique Spike HFV mutations\n",
      "\n",
      "96 unique Spike NTD HFV mutations\n",
      "41 unique Spike RBD HFV mutations\n",
      "\n",
      "71 unique Spike NTD sites mutations: 24%\n",
      "28 unique Spike RBD HFV sites: 13%\n",
      "\n"
     ]
    }
   ],
   "source": [
    "################################\n",
    "# LOAD IN MUTATIONS PER GENOME #\n",
    "################################\n",
    "HFV_threshold <- minimum_obs <- 10000\n",
    "\n",
    "# Get unique set of Spike Mutations\n",
    "all_mutation_list <- data.table::fread(\"~/efs_shared/COVID19/All Mutations - 2022-11-17.csv\", stringsAsFactors = FALSE) %>%\n",
    "    dplyr::rename(Protein = protein)\n",
    "\n",
    "all_mutation_list <- all_mutation_list %>% \n",
    "    left_join(\n",
    "        data.table(Protein = unique(all_mutation_list$Protein)) %>% \n",
    "            mutate(\n",
    "                Gene = case_when(\n",
    "                    !(Protein %in% (orf1ab_tbl %>% pull(Product))) ~ Protein,\n",
    "                    Protein %in% (orf1ab_tbl %>% filter(score == \"ORF1a\") %>% pull(Product)) ~ \"ORF1a\",\n",
    "                    Protein %in% (orf1ab_tbl %>% filter(score == \"ORF1b\") %>% pull(Product)) ~ \"ORF1b\"\n",
    "                ),\n",
    "                len = sapply(Protein, function(x) all_mutation_list %>% filter(Protein == x) %>% pull(site) %>% max())\n",
    "            ),\n",
    "        by = \"Protein\"\n",
    "    )\n",
    "\n",
    "mutation_list <- all_mutation_list %>% \n",
    "    filter(\n",
    "        count >= minimum_obs &\n",
    "        Protein == \"Spike\" & \n",
    "        site %in% 319:541\n",
    "    )\n",
    "\n",
    "# Tally # genomes per mutation and select those that have occurred at least 5 times for analysis\n",
    "mutation_count_tbl <- mutation_list %>% \n",
    "    select(Mutation, count) %>% \n",
    "    dplyr::rename(Variant = Mutation, n = count) %>% \n",
    "    arrange(desc(n))\n",
    "\n",
    "cat(paste0(\n",
    "    format(nrow(all_mutation_list), big.mark=\",\"), \" unique mutations\\n\",\n",
    "    format(( all_mutation_list %>% filter(Protein == \"Spike\" & site %in% 319:541) %>% nrow() ), big.mark=\",\"), \" unique Spike RBD mutations\\n\\n\",\n",
    "    \n",
    "    format(all_mutation_list %>% filter(count >= minimum_obs) %>% nrow(), big.mark=\",\"), \" unique HFV mutations\\n\",\n",
    "    format(all_mutation_list %>% filter(count >= minimum_obs & Protein == \"Spike\") %>% nrow(), big.mark=\",\"), \" unique Spike HFV mutations\\n\\n\",\n",
    "\n",
    "    format(all_mutation_list %>% filter(count >= minimum_obs & Protein == \"Spike\" & site %in% 13:303) %>% nrow(), big.mark=\",\"), \" unique Spike NTD HFV mutations\\n\",\n",
    "    format(nrow(mutation_list), big.mark=\",\"), \" unique Spike RBD HFV mutations\\n\\n\",\n",
    "\n",
    "    format(all_mutation_list %>% filter(count >= minimum_obs & Protein == \"Spike\" & site %in% 13:303) %>% filter(!duplicated(site)) %>% nrow(), big.mark=\",\"), \" unique Spike NTD sites mutations: \",\n",
    "    100*round((all_mutation_list %>% filter(count >= minimum_obs & Protein == \"Spike\" & site %in% 13:303) %>% filter(!duplicated(site)) %>% nrow() ) / length(13:303), 2), \"%\\n\",\n",
    "\n",
    "    format(mutation_list %>% filter(!duplicated(site)) %>% nrow(), big.mark=\",\"), \" unique Spike RBD HFV sites: \", \n",
    "    100*round((mutation_list %>% filter(!duplicated(site)) %>% nrow() ) / length(319:541), 2), \"%\\n\\n\"\n",
    "  \n",
    "))\n"
   ]
  },
  {
   "cell_type": "markdown",
   "metadata": {},
   "source": [
    "# Overlay sites under selection"
   ]
  },
  {
   "cell_type": "code",
   "execution_count": 37,
   "metadata": {
    "execution": {
     "iopub.execute_input": "2023-10-06T16:04:00.349114Z",
     "iopub.status.busy": "2023-10-06T16:04:00.348122Z",
     "iopub.status.idle": "2023-10-06T16:04:00.372746Z",
     "shell.execute_reply": "2023-10-06T16:04:00.371821Z"
    },
    "tags": []
   },
   "outputs": [
    {
     "name": "stdout",
     "output_type": "stream",
     "text": [
      "32 / 41 HFV occur at RBD sites under diversifying selection\n",
      "20 / 23 sites under diversifying selection have an HFV\n",
      "3 sites under diversifying selection do not have an HFV\n",
      "\n",
      "% Sites in Spike RBD with HFVs = 13% (28 / 223)"
     ]
    }
   ],
   "source": [
    "tmp <- mutation_list  %>% \n",
    "    filter(site %in% (fubar_output %>% filter(gene == \"Spike\" & `Prob[alpha<beta]` > 0.9) %>% pull(site)))\n",
    "\n",
    "cat(paste0(\n",
    "    nrow(tmp), ' / ', nrow(mutation_list) , ' HFV occur at RBD sites under diversifying selection\\n',\n",
    "     fubar_output %>% filter(gene == \"Spike\" & `Prob[alpha<beta]` > 0.9 & site %in% mutation_list$site) %>% nrow(), ' / ',\n",
    "     fubar_output %>% filter(gene == \"Spike\" & `Prob[alpha<beta]` > 0.9 & site %in% 319:541) %>% nrow(), \n",
    "    ' sites under diversifying selection have an HFV\\n',\n",
    "     fubar_output %>% filter(gene == \"Spike\" & `Prob[alpha<beta]` > 0.9 & site %in% 319:541 & !(site %in% mutation_list$site)) %>% nrow(),\n",
    "    ' sites under diversifying selection do not have an HFV\\n\\n'\n",
    "))\n",
    "\n",
    "a <- (mutation_list %>% filter(!duplicated(site)) %>% nrow())\n",
    "b <-  (541 - 319 + 1)\n",
    "cat(paste0(\"% Sites in Spike RBD with HFVs = \", 100 * round(a / b, 2), \"% (\", a, \" / \", b, \")\"  ))"
   ]
  },
  {
   "cell_type": "code",
   "execution_count": 27,
   "metadata": {
    "execution": {
     "iopub.execute_input": "2023-10-06T16:02:50.088798Z",
     "iopub.status.busy": "2023-10-06T16:02:50.087610Z",
     "iopub.status.idle": "2023-10-06T16:02:50.213158Z",
     "shell.execute_reply": "2023-10-06T16:02:50.212099Z"
    },
    "tags": []
   },
   "outputs": [],
   "source": [
    "gene_summary_df <- all_mutation_list %>%\n",
    "    filter(count > HFV_threshold & Protein != \"ORF7b\") %>%\n",
    "    filter(!duplicated(paste0(Protein, \":\", site))) %>%\n",
    "    count(Gene) %>%\n",
    "    mutate(\n",
    "        n_HFV = sapply(Gene, function(x) all_mutation_list %>% filter(Gene == x & count > HFV_threshold) %>% nrow()),\n",
    "        len = sapply(Gene, function(x){\n",
    "            if(x == \"ORF1a\"){return(4401)}\n",
    "            if(x==\"ORF1b\"){return(2695)}\n",
    "            return(fubar_output %>% filter(gene == x) %>% pull(site) %>% max())\n",
    "        }),\n",
    "        n_pos_selection = sapply(Gene, function(x) fubar_output %>% filter(gene == x & `Prob[alpha<beta]` >= 0.9) %>% nrow()),\n",
    "        n_neg_selection = sapply(Gene, function(x) fubar_output %>% filter(gene == x & `Prob[alpha>beta]` >= 0.9) %>% nrow()),\n",
    "        n_pct = round(n/len, 4),\n",
    "        n_pos_selection_pct = round(n_pos_selection/len, 4),\n",
    "        n_neg_selection_pct = round(n_neg_selection/len, 4)\n",
    "    ) %>%\n",
    "     select(Gene, len, n_HFV, n, n_pct, n_pos_selection, n_pos_selection_pct, n_neg_selection, n_neg_selection_pct) %>%\n",
    "    dplyr::rename(\n",
    "        `Gene Length` = len,\n",
    "        `Number of HFV` = n_HFV, \n",
    "        `Number of Sites with HFV` = n, \n",
    "        `Percent of Sites with HFV` = n_pct, \n",
    "        `Number of Sites under Diversifying Selection` = n_pos_selection,\n",
    "        `Percent of Sites under Diversifying Selection` = n_pos_selection_pct,\n",
    "        `Number of Sites under Purifying Selection` = n_neg_selection,\n",
    "        `Percent of Sites under Purifying Selection` = n_neg_selection_pct\n",
    "    )"
   ]
  },
  {
   "cell_type": "code",
   "execution_count": 32,
   "metadata": {
    "execution": {
     "iopub.execute_input": "2023-10-06T16:03:20.088634Z",
     "iopub.status.busy": "2023-10-06T16:03:20.087436Z",
     "iopub.status.idle": "2023-10-06T16:03:20.433533Z",
     "shell.execute_reply": "2023-10-06T16:03:20.432978Z"
    },
    "tags": []
   },
   "outputs": [
    {
     "name": "stderr",
     "output_type": "stream",
     "text": [
      "Warning message in max(.):\n",
      "“no non-missing arguments to max; returning -Inf”\n"
     ]
    },
    {
     "data": {
      "image/png": "[encoded data removed]",
      "text/plain": [
       "plot without title"
      ]
     },
     "metadata": {
      "image/png": {
       "height": 420,
       "width": 420
      },
      "text/plain": {
       "height": 420,
       "width": 420
      }
     },
     "output_type": "display_data"
    }
   ],
   "source": [
    "p <- all_mutation_list %>%\n",
    "    filter(count > HFV_threshold) %>%\n",
    "    filter(!duplicated(paste0(Protein, \":\", site))) %>%\n",
    "    mutate(\n",
    "        Gene = case_when(\n",
    "            !(Protein %in% (orf1ab_tbl %>% pull(Product))) ~ Protein,\n",
    "            Protein %in% (orf1ab_tbl %>% filter(score == \"ORF1a\") %>% pull(Product)) ~ \"ORF1a\",\n",
    "            Protein %in% (orf1ab_tbl %>% filter(score == \"ORF1b\") %>% pull(Product)) ~ \"ORF1b\"\n",
    "        )\n",
    "    ) %>%\n",
    "    count(Gene) %>%\n",
    "    mutate(\n",
    "        len = sapply(Gene, function(x){\n",
    "            if(x == \"ORF1a\"){return(4401)}\n",
    "            if(x==\"ORF1b\"){return(2695)}\n",
    "            return(fubar_output %>% filter(gene == x) %>% pull(site) %>% max())\n",
    "        }),\n",
    "        pct = n/len,\n",
    "        lab = paste0(n, \" / \", len, \" (\", round(pct, 2) * 100, \"%)\")\n",
    "    ) %>%\n",
    "    filter(len!=0 & abs(len)!=Inf) %>%\n",
    "    arrange(pct) %>%\n",
    "    ggbarplot(\n",
    "        x = \"Gene\",\n",
    "        y  = \"pct\",\n",
    "        label = \"lab\",\n",
    "        lab.vjust = 0.25,\n",
    "        lab.hjust = -0.15,\n",
    "        fill = \"black\"\n",
    "    ) +\n",
    "    coord_flip() +\n",
    "    labs(\n",
    "        x = \"\",\n",
    "        y = \"% Sites with HFV\"\n",
    "    ) +\n",
    "    scale_y_continuous(labels = scales::percent, limits = c(0,1))\n",
    "\n",
    "p\n"
   ]
  },
  {
   "cell_type": "code",
   "execution_count": 31,
   "metadata": {
    "execution": {
     "iopub.execute_input": "2023-10-06T16:03:17.088525Z",
     "iopub.status.busy": "2023-10-06T16:03:17.087343Z",
     "iopub.status.idle": "2023-10-06T16:03:17.276275Z",
     "shell.execute_reply": "2023-10-06T16:03:17.275256Z"
    },
    "tags": []
   },
   "outputs": [],
   "source": [
    "protein_summary_df <- all_mutation_list %>%\n",
    "    filter(count > HFV_threshold & Protein != \"ORF7b\") %>%\n",
    "    filter(!duplicated(paste0(Protein, \":\", site))) %>%\n",
    "    count(Protein, len) %>%\n",
    "    mutate(\n",
    "        n_HFV = sapply(Protein, function(x) all_mutation_list %>% filter(Protein == x & count > HFV_threshold) %>% nrow()),\n",
    "        n_pos_selection = sapply(Protein, function(x) fubar_output %>% filter(protein == x & `Prob[alpha<beta]` >= 0.9) %>% nrow()),\n",
    "        n_neg_selection = sapply(Protein, function(x) fubar_output %>% filter(protein == x & `Prob[alpha>beta]` >= 0.9) %>% nrow()),\n",
    "        n_pct = round(n/len, 4),\n",
    "        n_pos_selection_pct = round(n_pos_selection/len, 4),\n",
    "        n_neg_selection_pct = round(n_neg_selection/len, 4)\n",
    "    ) %>%\n",
    "     select(Protein, len, n_HFV, n, n_pct, n_pos_selection, n_pos_selection_pct, n_neg_selection, n_neg_selection_pct) %>%\n",
    "    dplyr::rename(\n",
    "        `Protein Length` = len,\n",
    "        `Number of HFV` = n_HFV, \n",
    "        `Number of Sites with HFV` = n, \n",
    "        `Percent of Sites with HFV` = n_pct, \n",
    "        `Number of Sites under Diversifying Selection` = n_pos_selection,\n",
    "        `Percent of Sites under Diversifying Selection` = n_pos_selection_pct,\n",
    "        `Number of Sites under Purifying Selection` = n_neg_selection,\n",
    "        `Percent of Sites under Purifying Selection` = n_neg_selection_pct\n",
    "    ) %>% arrange(Protein)\n"
   ]
  },
  {
   "cell_type": "code",
   "execution_count": 38,
   "metadata": {
    "execution": {
     "iopub.execute_input": "2023-10-06T16:04:17.297386Z",
     "iopub.status.busy": "2023-10-06T16:04:17.296439Z",
     "iopub.status.idle": "2023-10-06T16:04:18.088761Z",
     "shell.execute_reply": "2023-10-06T16:04:18.087659Z"
    },
    "tags": []
   },
   "outputs": [
    {
     "data": {
      "image/png": "[encoded data removed]",
      "text/plain": [
       "plot without title"
      ]
     },
     "metadata": {
      "image/png": {
       "height": 420,
       "width": 420
      },
      "text/plain": {
       "height": 420,
       "width": 420
      }
     },
     "output_type": "display_data"
    }
   ],
   "source": [
    "p <- all_mutation_list %>%\n",
    "    filter(count > 1000 & Protein %in% orf1ab_map$Protein) %>%\n",
    "    filter(!duplicated(paste0(Protein, \":\", site))) %>%\n",
    "    count(Protein) %>%\n",
    "    mutate(\n",
    "        len = sapply(Protein, function(x) all_mutation_list %>% filter(Protein == x) %>% pull(site) %>% max()),\n",
    "        pct = n/len,2,\n",
    "        lab = paste0(n, \" / \", len, \" (\", round(pct, 2) * 100, \"%)\")\n",
    "    ) %>%\n",
    "    arrange(pct) %>%\n",
    "    ggbarplot(\n",
    "        x = \"Protein\",\n",
    "        y  = \"pct\",\n",
    "        label = \"lab\",\n",
    "        lab.vjust = 0.25,\n",
    "        lab.hjust = -0.15,\n",
    "        fill = \"black\"\n",
    "    ) +\n",
    "    coord_flip() +\n",
    "    labs(\n",
    "        x = \"\",\n",
    "        y = \"% Sites with HFV\"\n",
    "    ) +\n",
    "    scale_y_continuous(labels = scales::percent, limits = c(0,0.9))\n",
    "        \n",
    "p"
   ]
  },
  {
   "cell_type": "code",
   "execution_count": null,
   "metadata": {},
   "outputs": [],
   "source": []
  }
 ],
 "metadata": {
  "kernelspec": {
   "display_name": "R 3.6.3 (03/25/2020 packages)",
   "language": "R",
   "name": "ir_3.6.0"
  },
  "language_info": {
   "codemirror_mode": "r",
   "file_extension": ".r",
   "mimetype": "text/x-r-source",
   "name": "R",
   "pygments_lexer": "r",
   "version": "3.6.3"
  }
 },
 "nbformat": 4,
 "nbformat_minor": 4
}
